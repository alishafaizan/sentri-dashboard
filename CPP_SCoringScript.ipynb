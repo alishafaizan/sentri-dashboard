{
 "cells": [
  {
   "cell_type": "code",
   "execution_count": 1,
   "id": "f57e1bc2-4728-4abe-aff6-9c47f39d5790",
   "metadata": {
    "execution": {
     "iopub.execute_input": "2025-09-26T06:08:07.073864Z",
     "iopub.status.busy": "2025-09-26T06:08:07.073444Z",
     "iopub.status.idle": "2025-09-26T06:08:07.559483Z",
     "shell.execute_reply": "2025-09-26T06:08:07.558813Z",
     "shell.execute_reply.started": "2025-09-26T06:08:07.073831Z"
    }
   },
   "outputs": [
    {
     "data": {
      "application/javascript": [
       "IPython.notebook.set_autosave_interval(5000)"
      ]
     },
     "metadata": {},
     "output_type": "display_data"
    },
    {
     "name": "stdout",
     "output_type": "stream",
     "text": [
      "Autosaving every 5 seconds\n"
     ]
    }
   ],
   "source": [
    "import sys\n",
    "import logging\n",
    "import sys\n",
    "import pandas as pd\n",
    "import numpy as np \n",
    "import warnings\n",
    "warnings.filterwarnings('ignore')\n",
    "import time\n",
    "import pickle\n",
    "import os\n",
    " \n",
    "#logging \n",
    "nblog = open(\"nb.log\", \"a+\")\n",
    "sys.stdout.echo = nblog\n",
    "sys.stderr.echo = nblog\n",
    " \n",
    "get_ipython().log.handlers[0].stream = nblog\n",
    "get_ipython().log.setLevel(logging.INFO)\n",
    " \n",
    "%autosave 5\n",
    "time_start=time.time()\n",
    "time_start\n",
    " \n",
    "from datetime import datetime, timedelta\n",
    "from datetime import date\n",
    "from dateutil.relativedelta import relativedelta"
   ]
  },
  {
   "cell_type": "markdown",
   "id": "aaea8534-5dac-4d2b-b7c7-465736ac1587",
   "metadata": {},
   "source": [
    "## Load Data"
   ]
  },
  {
   "cell_type": "code",
   "execution_count": 2,
   "id": "776c3d33-7b39-4416-ad57-6abe2c78586d",
   "metadata": {
    "execution": {
     "iopub.execute_input": "2025-09-26T06:08:08.649409Z",
     "iopub.status.busy": "2025-09-26T06:08:08.649005Z",
     "iopub.status.idle": "2025-09-26T06:08:16.788667Z",
     "shell.execute_reply": "2025-09-26T06:08:16.787676Z",
     "shell.execute_reply.started": "2025-09-26T06:08:08.649365Z"
    }
   },
   "outputs": [],
   "source": [
    "df = pd.read_csv(\"credit_card_transactions.csv\", index_col = [0])"
   ]
  },
  {
   "cell_type": "markdown",
   "id": "5ed75d8a-feb8-4a16-875b-85ac79273665",
   "metadata": {
    "jp-MarkdownHeadingCollapsed": true
   },
   "source": [
    "## EDA"
   ]
  },
  {
   "cell_type": "code",
   "execution_count": 4,
   "id": "57c98e6f-9fc9-450a-b5f6-0e59b1adcaa7",
   "metadata": {
    "execution": {
     "iopub.execute_input": "2025-09-26T06:08:16.821038Z",
     "iopub.status.busy": "2025-09-26T06:08:16.820847Z",
     "iopub.status.idle": "2025-09-26T06:08:17.665848Z",
     "shell.execute_reply": "2025-09-26T06:08:17.665266Z",
     "shell.execute_reply.started": "2025-09-26T06:08:16.821012Z"
    }
   },
   "outputs": [
    {
     "data": {
      "text/plain": [
       "16    649148\n",
       "15    215968\n",
       "14    125985\n",
       "19    118789\n",
       "12     91468\n",
       "13     89206\n",
       "11      6111\n",
       "Name: cc_num, dtype: int64"
      ]
     },
     "execution_count": 4,
     "metadata": {},
     "output_type": "execute_result"
    }
   ],
   "source": [
    "df.cc_num.apply(lambda x : len(str(x))).value_counts()"
   ]
  },
  {
   "cell_type": "code",
   "execution_count": 5,
   "id": "c2c24eff-d7b3-4d3d-8171-ccdfccd82648",
   "metadata": {
    "execution": {
     "iopub.execute_input": "2025-09-26T06:08:17.667677Z",
     "iopub.status.busy": "2025-09-26T06:08:17.667380Z",
     "iopub.status.idle": "2025-09-26T06:08:17.681429Z",
     "shell.execute_reply": "2025-09-26T06:08:17.680819Z",
     "shell.execute_reply.started": "2025-09-26T06:08:17.667651Z"
    }
   },
   "outputs": [
    {
     "data": {
      "text/plain": [
       "0    1289169\n",
       "1       7506\n",
       "Name: is_fraud, dtype: int64"
      ]
     },
     "execution_count": 5,
     "metadata": {},
     "output_type": "execute_result"
    }
   ],
   "source": [
    "df.is_fraud.value_counts()"
   ]
  },
  {
   "cell_type": "code",
   "execution_count": 6,
   "id": "5c279dc7-d417-48e8-bb6d-8fe714c1e481",
   "metadata": {
    "execution": {
     "iopub.execute_input": "2025-09-26T06:08:17.682716Z",
     "iopub.status.busy": "2025-09-26T06:08:17.682465Z",
     "iopub.status.idle": "2025-09-26T06:08:17.816686Z",
     "shell.execute_reply": "2025-09-26T06:08:17.816030Z",
     "shell.execute_reply.started": "2025-09-26T06:08:17.682691Z"
    }
   },
   "outputs": [
    {
     "data": {
      "text/plain": [
       "fraud_Kilback LLC                       4403\n",
       "fraud_Cormier LLC                       3649\n",
       "fraud_Schumm PLC                        3634\n",
       "fraud_Kuhn LLC                          3510\n",
       "fraud_Boyer PLC                         3493\n",
       "                                        ... \n",
       "fraud_Douglas, DuBuque and McKenzie      775\n",
       "fraud_Treutel-King                       775\n",
       "fraud_Medhurst, Labadie and Gottlieb     759\n",
       "fraud_Reichert-Weissnat                  753\n",
       "fraud_Hahn, Douglas and Schowalter       727\n",
       "Name: merchant, Length: 693, dtype: int64"
      ]
     },
     "execution_count": 6,
     "metadata": {},
     "output_type": "execute_result"
    }
   ],
   "source": [
    "df.merchant.value_counts()"
   ]
  },
  {
   "cell_type": "code",
   "execution_count": 7,
   "id": "0ba6a9ce-ba72-43ca-9a41-b1587eca20ba",
   "metadata": {
    "execution": {
     "iopub.execute_input": "2025-09-26T06:08:17.817958Z",
     "iopub.status.busy": "2025-09-26T06:08:17.817672Z",
     "iopub.status.idle": "2025-09-26T06:08:17.882243Z",
     "shell.execute_reply": "2025-09-26T06:08:17.881604Z",
     "shell.execute_reply.started": "2025-09-26T06:08:17.817921Z"
    }
   },
   "outputs": [
    {
     "data": {
      "text/plain": [
       "fraud_Rau and Sons                      49\n",
       "fraud_Cormier LLC                       48\n",
       "fraud_Kozey-Boehm                       48\n",
       "fraud_Doyle Ltd                         47\n",
       "fraud_Vandervort-Funk                   47\n",
       "                                        ..\n",
       "fraud_Turner LLC                         1\n",
       "fraud_Kihn-Fritsch                       1\n",
       "fraud_Stokes, Christiansen and Sipes     1\n",
       "fraud_Fadel Inc                          1\n",
       "fraud_Hills-Olson                        1\n",
       "Name: merchant, Length: 679, dtype: int64"
      ]
     },
     "execution_count": 7,
     "metadata": {},
     "output_type": "execute_result"
    }
   ],
   "source": [
    "df[df.is_fraud == 1].merchant.value_counts()"
   ]
  },
  {
   "cell_type": "code",
   "execution_count": 8,
   "id": "27798eb2-5f20-4952-8f92-f9f75179645d",
   "metadata": {
    "execution": {
     "iopub.execute_input": "2025-09-26T06:08:17.883374Z",
     "iopub.status.busy": "2025-09-26T06:08:17.883114Z",
     "iopub.status.idle": "2025-09-26T06:09:44.746221Z",
     "shell.execute_reply": "2025-09-26T06:09:44.745560Z",
     "shell.execute_reply.started": "2025-09-26T06:08:17.883348Z"
    }
   },
   "outputs": [],
   "source": []
  },
  {
   "cell_type": "code",
   "execution_count": 9,
   "id": "f1bb9084-12f0-4e3e-ab74-31e8cfc2aace",
   "metadata": {
    "execution": {
     "iopub.execute_input": "2025-09-26T06:09:44.747516Z",
     "iopub.status.busy": "2025-09-26T06:09:44.747205Z",
     "iopub.status.idle": "2025-09-26T06:09:44.758517Z",
     "shell.execute_reply": "2025-09-26T06:09:44.757929Z",
     "shell.execute_reply.started": "2025-09-26T06:09:44.747490Z"
    }
   },
   "outputs": [
    {
     "data": {
      "text/plain": [
       "(Timestamp('2019-01-01 00:00:18'), Timestamp('2020-06-21 12:13:37'))"
      ]
     },
     "execution_count": 9,
     "metadata": {},
     "output_type": "execute_result"
    }
   ],
   "source": [
    "df['datetime'].min(), df['datetime'].max()"
   ]
  },
  {
   "cell_type": "code",
   "execution_count": 222,
   "id": "a968ef64-3b6a-4378-bfc4-f7c704528c86",
   "metadata": {
    "execution": {
     "iopub.execute_input": "2025-09-26T10:53:32.698031Z",
     "iopub.status.busy": "2025-09-26T10:53:32.697722Z",
     "iopub.status.idle": "2025-09-26T10:53:33.073859Z",
     "shell.execute_reply": "2025-09-26T10:53:33.073267Z",
     "shell.execute_reply.started": "2025-09-26T10:53:32.698003Z"
    }
   },
   "outputs": [
    {
     "data": {
      "text/html": [
       "<div>\n",
       "<style scoped>\n",
       "    .dataframe tbody tr th:only-of-type {\n",
       "        vertical-align: middle;\n",
       "    }\n",
       "\n",
       "    .dataframe tbody tr th {\n",
       "        vertical-align: top;\n",
       "    }\n",
       "\n",
       "    .dataframe thead tr th {\n",
       "        text-align: left;\n",
       "    }\n",
       "</style>\n",
       "<table border=\"1\" class=\"dataframe\">\n",
       "  <thead>\n",
       "    <tr>\n",
       "      <th></th>\n",
       "      <th>cc_num</th>\n",
       "      <th>merchant</th>\n",
       "      <th>is_fraud</th>\n",
       "      <th colspan=\"2\" halign=\"left\">datetime</th>\n",
       "    </tr>\n",
       "    <tr>\n",
       "      <th></th>\n",
       "      <th></th>\n",
       "      <th></th>\n",
       "      <th>sum</th>\n",
       "      <th>min</th>\n",
       "      <th>max</th>\n",
       "    </tr>\n",
       "  </thead>\n",
       "  <tbody>\n",
       "    <tr>\n",
       "      <th>0</th>\n",
       "      <td>60416207185</td>\n",
       "      <td>fraud_Abbott-Rogahn</td>\n",
       "      <td>0</td>\n",
       "      <td>2019-05-05 14:49:41</td>\n",
       "      <td>2020-04-27 18:07:08</td>\n",
       "    </tr>\n",
       "    <tr>\n",
       "      <th>1</th>\n",
       "      <td>60416207185</td>\n",
       "      <td>fraud_Abbott-Steuber</td>\n",
       "      <td>0</td>\n",
       "      <td>2019-05-28 13:28:33</td>\n",
       "      <td>2020-02-14 15:13:50</td>\n",
       "    </tr>\n",
       "    <tr>\n",
       "      <th>2</th>\n",
       "      <td>60416207185</td>\n",
       "      <td>fraud_Abernathy and Sons</td>\n",
       "      <td>0</td>\n",
       "      <td>2019-05-10 12:06:46</td>\n",
       "      <td>2019-08-05 15:13:22</td>\n",
       "    </tr>\n",
       "    <tr>\n",
       "      <th>3</th>\n",
       "      <td>60416207185</td>\n",
       "      <td>fraud_Abshire PLC</td>\n",
       "      <td>0</td>\n",
       "      <td>2019-07-01 12:08:53</td>\n",
       "      <td>2019-11-30 21:52:16</td>\n",
       "    </tr>\n",
       "    <tr>\n",
       "      <th>4</th>\n",
       "      <td>60416207185</td>\n",
       "      <td>fraud_Adams, Kovacek and Kuhlman</td>\n",
       "      <td>0</td>\n",
       "      <td>2019-05-14 11:07:23</td>\n",
       "      <td>2020-01-05 11:50:41</td>\n",
       "    </tr>\n",
       "    <tr>\n",
       "      <th>...</th>\n",
       "      <td>...</td>\n",
       "      <td>...</td>\n",
       "      <td>...</td>\n",
       "      <td>...</td>\n",
       "      <td>...</td>\n",
       "    </tr>\n",
       "    <tr>\n",
       "      <th>479067</th>\n",
       "      <td>4992346398065154184</td>\n",
       "      <td>fraud_Zemlak Group</td>\n",
       "      <td>0</td>\n",
       "      <td>2019-04-23 00:00:37</td>\n",
       "      <td>2019-12-04 07:17:50</td>\n",
       "    </tr>\n",
       "    <tr>\n",
       "      <th>479068</th>\n",
       "      <td>4992346398065154184</td>\n",
       "      <td>fraud_Zemlak, Tillman and Cremin</td>\n",
       "      <td>0</td>\n",
       "      <td>2019-02-04 15:00:05</td>\n",
       "      <td>2020-02-18 15:21:57</td>\n",
       "    </tr>\n",
       "    <tr>\n",
       "      <th>479069</th>\n",
       "      <td>4992346398065154184</td>\n",
       "      <td>fraud_Ziemann-Waters</td>\n",
       "      <td>0</td>\n",
       "      <td>2019-03-11 18:34:00</td>\n",
       "      <td>2020-03-02 21:04:01</td>\n",
       "    </tr>\n",
       "    <tr>\n",
       "      <th>479070</th>\n",
       "      <td>4992346398065154184</td>\n",
       "      <td>fraud_Zieme, Bode and Dooley</td>\n",
       "      <td>0</td>\n",
       "      <td>2019-01-11 03:45:26</td>\n",
       "      <td>2020-06-16 00:30:16</td>\n",
       "    </tr>\n",
       "    <tr>\n",
       "      <th>479071</th>\n",
       "      <td>4992346398065154184</td>\n",
       "      <td>fraud_Zulauf LLC</td>\n",
       "      <td>0</td>\n",
       "      <td>2019-01-28 23:35:30</td>\n",
       "      <td>2019-01-28 23:35:30</td>\n",
       "    </tr>\n",
       "  </tbody>\n",
       "</table>\n",
       "<p>479072 rows × 5 columns</p>\n",
       "</div>"
      ],
      "text/plain": [
       "                     cc_num                          merchant is_fraud  \\\n",
       "                                                                   sum   \n",
       "0               60416207185               fraud_Abbott-Rogahn        0   \n",
       "1               60416207185              fraud_Abbott-Steuber        0   \n",
       "2               60416207185          fraud_Abernathy and Sons        0   \n",
       "3               60416207185                 fraud_Abshire PLC        0   \n",
       "4               60416207185  fraud_Adams, Kovacek and Kuhlman        0   \n",
       "...                     ...                               ...      ...   \n",
       "479067  4992346398065154184                fraud_Zemlak Group        0   \n",
       "479068  4992346398065154184  fraud_Zemlak, Tillman and Cremin        0   \n",
       "479069  4992346398065154184              fraud_Ziemann-Waters        0   \n",
       "479070  4992346398065154184      fraud_Zieme, Bode and Dooley        0   \n",
       "479071  4992346398065154184                  fraud_Zulauf LLC        0   \n",
       "\n",
       "                  datetime                      \n",
       "                       min                 max  \n",
       "0      2019-05-05 14:49:41 2020-04-27 18:07:08  \n",
       "1      2019-05-28 13:28:33 2020-02-14 15:13:50  \n",
       "2      2019-05-10 12:06:46 2019-08-05 15:13:22  \n",
       "3      2019-07-01 12:08:53 2019-11-30 21:52:16  \n",
       "4      2019-05-14 11:07:23 2020-01-05 11:50:41  \n",
       "...                    ...                 ...  \n",
       "479067 2019-04-23 00:00:37 2019-12-04 07:17:50  \n",
       "479068 2019-02-04 15:00:05 2020-02-18 15:21:57  \n",
       "479069 2019-03-11 18:34:00 2020-03-02 21:04:01  \n",
       "479070 2019-01-11 03:45:26 2020-06-16 00:30:16  \n",
       "479071 2019-01-28 23:35:30 2019-01-28 23:35:30  \n",
       "\n",
       "[479072 rows x 5 columns]"
      ]
     },
     "execution_count": 222,
     "metadata": {},
     "output_type": "execute_result"
    }
   ],
   "source": [
    "df.groupby(['cc_num','merchant']).agg({'is_fraud' : 'sum',\n",
    "                                      'datetime' : ['min','max']}). reset_index()"
   ]
  },
  {
   "cell_type": "markdown",
   "id": "74dd50f7-655f-43d7-818a-c291f7b26eaa",
   "metadata": {},
   "source": [
    "## Functions "
   ]
  },
  {
   "cell_type": "code",
   "execution_count": 252,
   "id": "58aedbf6-e9a1-404f-900e-d29b56748018",
   "metadata": {
    "execution": {
     "iopub.execute_input": "2025-09-26T11:26:19.649377Z",
     "iopub.status.busy": "2025-09-26T11:26:19.649058Z",
     "iopub.status.idle": "2025-09-26T11:26:19.654618Z",
     "shell.execute_reply": "2025-09-26T11:26:19.654032Z",
     "shell.execute_reply.started": "2025-09-26T11:26:19.649349Z"
    }
   },
   "outputs": [],
   "source": [
    "def create_graph(df,sdate_overall, sdate_fraud, edate, card_id = 'cc_num', merch_id = 'merchant', date = 'trans_date_trans_time', label = 'is_fraud'):\n",
    "    # df['datetime'] = df[date].apply(pd.to_datetime) # Takes a lot of time - remove if already processed\n",
    "    graph = df[(df.datetime >= sdate_overall) & (df.datetime <= edate)][[card_id, merch_id, 'datetime', 'is_fraud']].reset_index(drop = True)\n",
    "    cc_fraudwindow = graph[graph[label] == 1][[card_id, 'datetime']].groupby(card_id).agg(first_fraud_date = ('datetime','min')).reset_index()\n",
    "    cc_fraudwindow = cc_fraudwindow[cc_fraudwindow.first_fraud_date >= sdate_fraud].reset_index(drop = True)\n",
    "    graph = graph.merge(cc_fraudwindow,\n",
    "                        on = card_id,\n",
    "                        how = 'left'\n",
    "                        )\n",
    "    return graph"
   ]
  },
  {
   "cell_type": "code",
   "execution_count": 257,
   "id": "38e9ca70-a6af-4b28-88f7-ab92145dc3bb",
   "metadata": {
    "execution": {
     "iopub.execute_input": "2025-09-26T11:28:48.374090Z",
     "iopub.status.busy": "2025-09-26T11:28:48.373825Z",
     "iopub.status.idle": "2025-09-26T11:28:48.401854Z",
     "shell.execute_reply": "2025-09-26T11:28:48.400993Z",
     "shell.execute_reply.started": "2025-09-26T11:28:48.374060Z"
    }
   },
   "outputs": [],
   "source": [
    "def create_blame_theta(graph, card_id = 'cc_num', merch_id = 'merchant', alpha = 0, beta = 0): #alpha = 0.2, beta = 1000\n",
    "    breach_graph = graph[graph.datetime <= graph.first_fraud_date].reset_index(drop = True) ## non fraud cards and their links gets removed due to NaT comparisons\n",
    "    merch_list = list(breach_graph.merchant)\n",
    "    total = graph[graph.merchant.isin(merch_list)].groupby(merch_id).agg(total_cards = (card_id, 'nunique'))\n",
    "    fraud = breach_graph.groupby([merch_id]).agg(fraud_cards=(card_id, 'nunique'))    \n",
    "    \n",
    "    blame = breach_graph[[card_id,merch_id]].drop_duplicates().reset_index(drop = True)\n",
    "    blame['blame0'] = 1\n",
    "\n",
    "    theta = pd.concat([total, fraud], axis=1).fillna(0).astype(int).reset_index()\n",
    "    theta = theta.merge(blame.groupby(merch_id).agg(sum_blame = ('blame0', 'sum')).reset_index(), on = merch_id, how = 'left')\n",
    "    theta['theta0'] = (theta['sum_blame']+alpha)/(theta['total_cards']+beta+alpha)\n",
    "    theta = theta.drop('sum_blame', axis = 1).fillna(0)\n",
    "    return blame, theta, breach_graph"
   ]
  },
  {
   "cell_type": "code",
   "execution_count": 254,
   "id": "6f0aaa95-aaaa-4a5d-9b76-51da5984e2f0",
   "metadata": {
    "execution": {
     "iopub.execute_input": "2025-09-26T11:26:20.436815Z",
     "iopub.status.busy": "2025-09-26T11:26:20.436512Z",
     "iopub.status.idle": "2025-09-26T11:26:20.441653Z",
     "shell.execute_reply": "2025-09-26T11:26:20.441062Z",
     "shell.execute_reply.started": "2025-09-26T11:26:20.436788Z"
    }
   },
   "outputs": [],
   "source": [
    "def update_blame(blame, theta, iteration, card_id = 'cc_num', merch_id = 'merchant', alpha = 0, beta = 0):\n",
    "    prev = iteration-1\n",
    "    blame = blame.merge(theta[[merch_id,f'theta{prev}']], on = merch_id, how = 'left')\n",
    "    blame = blame.merge(blame.groupby(card_id).agg(sum_theta = (f'theta{prev}','sum')).reset_index(), on = card_id, how = 'left')\n",
    "    blame[f'blame{iteration}'] = blame[f'theta{prev}']/blame['sum_theta']\n",
    "    blame = blame.drop('sum_theta', axis = 1)\n",
    "\n",
    "    return blame"
   ]
  },
  {
   "cell_type": "code",
   "execution_count": 255,
   "id": "6ac11fdc-7438-4c4a-89fa-0a64c1cd8fab",
   "metadata": {
    "execution": {
     "iopub.execute_input": "2025-09-26T11:26:20.644746Z",
     "iopub.status.busy": "2025-09-26T11:26:20.644441Z",
     "iopub.status.idle": "2025-09-26T11:26:21.921161Z",
     "shell.execute_reply": "2025-09-26T11:26:21.920513Z",
     "shell.execute_reply.started": "2025-09-26T11:26:20.644718Z"
    }
   },
   "outputs": [],
   "source": [
    "def update_theta(blame, theta, iteration, card_id = 'cc_num', merch_id = 'merchant', alpha = 0, beta = 0):\n",
    "    prev = iteration-1\n",
    "    theta = theta.merge(blame.groupby(merch_id).agg(sum_blame = (f'blame{iteration}', 'sum')).reset_index(), on = merch_id, how = 'left')\n",
    "    theta[f'theta{iteration}'] = (theta['sum_blame']+alpha)/(theta['total_cards']+beta+alpha)\n",
    "    theta = theta.drop('sum_blame', axis = 1).fillna(0)\n",
    "\n",
    "    return theta"
   ]
  },
  {
   "cell_type": "markdown",
   "id": "17d695b0-49c4-466a-8143-99a76a99ea79",
   "metadata": {},
   "source": [
    "## Sample Runs"
   ]
  },
  {
   "cell_type": "code",
   "execution_count": null,
   "id": "026eba0c-b8ac-4ef7-9a06-fb1b0a816464",
   "metadata": {},
   "outputs": [],
   "source": [
    "card_id = 'cc_num'\n",
    "merch_id = 'merchant'\n",
    "sdate_overall = \"2019-01-01\"\n",
    "sdate_fraud = \"2019-04-01\"\n",
    "edate = \"2019-06-01\"\n",
    "\n",
    "## Optional\n",
    "# alpha = th.fraud_cards.mean() / th.total_cards.mean() \n",
    "# beta = th.total_cards.std()"
   ]
  },
  {
   "cell_type": "code",
   "execution_count": 258,
   "id": "9dd0d717-f822-4505-979a-854531856806",
   "metadata": {
    "execution": {
     "iopub.execute_input": "2025-09-26T11:29:01.677068Z",
     "iopub.status.busy": "2025-09-26T11:29:01.676816Z",
     "iopub.status.idle": "2025-09-26T11:29:01.822714Z",
     "shell.execute_reply": "2025-09-26T11:29:01.821902Z",
     "shell.execute_reply.started": "2025-09-26T11:29:01.677040Z"
    }
   },
   "outputs": [],
   "source": [
    "g = create_graph(df, \"2019-01-01\",\"2019-04-01\",\"2019-06-01\")"
   ]
  },
  {
   "cell_type": "code",
   "execution_count": 260,
   "id": "bbda6ae4-6090-465f-86e9-5a5e596d64aa",
   "metadata": {
    "execution": {
     "iopub.execute_input": "2025-09-26T11:29:10.421120Z",
     "iopub.status.busy": "2025-09-26T11:29:10.420870Z",
     "iopub.status.idle": "2025-09-26T11:29:10.852061Z",
     "shell.execute_reply": "2025-09-26T11:29:10.851248Z",
     "shell.execute_reply.started": "2025-09-26T11:29:10.421092Z"
    }
   },
   "outputs": [],
   "source": [
    "a,b,c = create_blame_theta(g)"
   ]
  },
  {
   "cell_type": "code",
   "execution_count": 263,
   "id": "b5a384d0-289e-4400-8b3c-d83b790f2f9a",
   "metadata": {
    "execution": {
     "iopub.execute_input": "2025-09-26T11:31:43.697266Z",
     "iopub.status.busy": "2025-09-26T11:31:43.697012Z",
     "iopub.status.idle": "2025-09-26T11:31:43.724671Z",
     "shell.execute_reply": "2025-09-26T11:31:43.723744Z",
     "shell.execute_reply.started": "2025-09-26T11:31:43.697237Z"
    }
   },
   "outputs": [
    {
     "data": {
      "text/html": [
       "<div>\n",
       "<style scoped>\n",
       "    .dataframe tbody tr th:only-of-type {\n",
       "        vertical-align: middle;\n",
       "    }\n",
       "\n",
       "    .dataframe tbody tr th {\n",
       "        vertical-align: top;\n",
       "    }\n",
       "\n",
       "    .dataframe thead th {\n",
       "        text-align: right;\n",
       "    }\n",
       "</style>\n",
       "<table border=\"1\" class=\"dataframe\">\n",
       "  <thead>\n",
       "    <tr style=\"text-align: right;\">\n",
       "      <th></th>\n",
       "      <th>merchant</th>\n",
       "      <th>total_cards</th>\n",
       "      <th>fraud_cards</th>\n",
       "      <th>theta0</th>\n",
       "    </tr>\n",
       "  </thead>\n",
       "  <tbody>\n",
       "    <tr>\n",
       "      <th>0</th>\n",
       "      <td>fraud_Abbott-Rogahn</td>\n",
       "      <td>346</td>\n",
       "      <td>31</td>\n",
       "      <td>0.089595</td>\n",
       "    </tr>\n",
       "    <tr>\n",
       "      <th>1</th>\n",
       "      <td>fraud_Abbott-Steuber</td>\n",
       "      <td>318</td>\n",
       "      <td>27</td>\n",
       "      <td>0.084906</td>\n",
       "    </tr>\n",
       "    <tr>\n",
       "      <th>2</th>\n",
       "      <td>fraud_Abernathy and Sons</td>\n",
       "      <td>304</td>\n",
       "      <td>17</td>\n",
       "      <td>0.055921</td>\n",
       "    </tr>\n",
       "    <tr>\n",
       "      <th>3</th>\n",
       "      <td>fraud_Abshire PLC</td>\n",
       "      <td>333</td>\n",
       "      <td>29</td>\n",
       "      <td>0.087087</td>\n",
       "    </tr>\n",
       "    <tr>\n",
       "      <th>4</th>\n",
       "      <td>fraud_Adams, Kovacek and Kuhlman</td>\n",
       "      <td>162</td>\n",
       "      <td>7</td>\n",
       "      <td>0.043210</td>\n",
       "    </tr>\n",
       "    <tr>\n",
       "      <th>...</th>\n",
       "      <td>...</td>\n",
       "      <td>...</td>\n",
       "      <td>...</td>\n",
       "      <td>...</td>\n",
       "    </tr>\n",
       "    <tr>\n",
       "      <th>688</th>\n",
       "      <td>fraud_Zemlak Group</td>\n",
       "      <td>237</td>\n",
       "      <td>14</td>\n",
       "      <td>0.059072</td>\n",
       "    </tr>\n",
       "    <tr>\n",
       "      <th>689</th>\n",
       "      <td>fraud_Zemlak, Tillman and Cremin</td>\n",
       "      <td>317</td>\n",
       "      <td>19</td>\n",
       "      <td>0.059937</td>\n",
       "    </tr>\n",
       "    <tr>\n",
       "      <th>690</th>\n",
       "      <td>fraud_Ziemann-Waters</td>\n",
       "      <td>334</td>\n",
       "      <td>25</td>\n",
       "      <td>0.074850</td>\n",
       "    </tr>\n",
       "    <tr>\n",
       "      <th>691</th>\n",
       "      <td>fraud_Zieme, Bode and Dooley</td>\n",
       "      <td>408</td>\n",
       "      <td>28</td>\n",
       "      <td>0.068627</td>\n",
       "    </tr>\n",
       "    <tr>\n",
       "      <th>692</th>\n",
       "      <td>fraud_Zulauf LLC</td>\n",
       "      <td>321</td>\n",
       "      <td>18</td>\n",
       "      <td>0.056075</td>\n",
       "    </tr>\n",
       "  </tbody>\n",
       "</table>\n",
       "<p>693 rows × 4 columns</p>\n",
       "</div>"
      ],
      "text/plain": [
       "                             merchant  total_cards  fraud_cards    theta0\n",
       "0                 fraud_Abbott-Rogahn          346           31  0.089595\n",
       "1                fraud_Abbott-Steuber          318           27  0.084906\n",
       "2            fraud_Abernathy and Sons          304           17  0.055921\n",
       "3                   fraud_Abshire PLC          333           29  0.087087\n",
       "4    fraud_Adams, Kovacek and Kuhlman          162            7  0.043210\n",
       "..                                ...          ...          ...       ...\n",
       "688                fraud_Zemlak Group          237           14  0.059072\n",
       "689  fraud_Zemlak, Tillman and Cremin          317           19  0.059937\n",
       "690              fraud_Ziemann-Waters          334           25  0.074850\n",
       "691      fraud_Zieme, Bode and Dooley          408           28  0.068627\n",
       "692                  fraud_Zulauf LLC          321           18  0.056075\n",
       "\n",
       "[693 rows x 4 columns]"
      ]
     },
     "execution_count": 263,
     "metadata": {},
     "output_type": "execute_result"
    }
   ],
   "source": [
    "b"
   ]
  },
  {
   "cell_type": "code",
   "execution_count": 246,
   "id": "4b41fb94-a329-4a68-aff5-f874bc43eae9",
   "metadata": {
    "execution": {
     "iopub.execute_input": "2025-09-26T11:07:13.769170Z",
     "iopub.status.busy": "2025-09-26T11:07:13.768874Z",
     "iopub.status.idle": "2025-09-26T11:08:39.411186Z",
     "shell.execute_reply": "2025-09-26T11:08:39.410415Z",
     "shell.execute_reply.started": "2025-09-26T11:07:13.769144Z"
    }
   },
   "outputs": [
    {
     "name": "stdout",
     "output_type": "stream",
     "text": [
      "Iteration 0\n",
      "Iteration 1\n",
      "Iteration 2\n",
      "Iteration 3\n",
      "Iteration 4\n",
      "Iteration 5\n",
      "Iteration 6\n",
      "Iteration 7\n",
      "Iteration 8\n",
      "Iteration 9\n"
     ]
    }
   ],
   "source": [
    "for i in range(0,10):\n",
    "    print(f\"Iteration {i}\")\n",
    "    if i == 0:\n",
    "        graph = create_graph(df, \"2019-01-01\",\"2019-04-01\",\"2019-06-01\")\n",
    "        b, th = create_blame_theta(graph)\n",
    "    else:\n",
    "        b = update_blame(b,th,i)\n",
    "        th = update_theta(b,th,i)"
   ]
  },
  {
   "cell_type": "code",
   "execution_count": 247,
   "id": "8287c812-be6a-4fc9-bbc5-021de3cefdf5",
   "metadata": {
    "execution": {
     "iopub.execute_input": "2025-09-26T11:08:39.412961Z",
     "iopub.status.busy": "2025-09-26T11:08:39.412667Z",
     "iopub.status.idle": "2025-09-26T11:08:39.432884Z",
     "shell.execute_reply": "2025-09-26T11:08:39.432308Z",
     "shell.execute_reply.started": "2025-09-26T11:08:39.412917Z"
    }
   },
   "outputs": [
    {
     "data": {
      "text/html": [
       "<div>\n",
       "<style scoped>\n",
       "    .dataframe tbody tr th:only-of-type {\n",
       "        vertical-align: middle;\n",
       "    }\n",
       "\n",
       "    .dataframe tbody tr th {\n",
       "        vertical-align: top;\n",
       "    }\n",
       "\n",
       "    .dataframe thead th {\n",
       "        text-align: right;\n",
       "    }\n",
       "</style>\n",
       "<table border=\"1\" class=\"dataframe\">\n",
       "  <thead>\n",
       "    <tr style=\"text-align: right;\">\n",
       "      <th></th>\n",
       "      <th>merchant</th>\n",
       "      <th>total_cards</th>\n",
       "      <th>fraud_cards</th>\n",
       "      <th>theta0</th>\n",
       "      <th>theta1</th>\n",
       "      <th>theta2</th>\n",
       "      <th>theta3</th>\n",
       "      <th>theta4</th>\n",
       "      <th>theta5</th>\n",
       "      <th>theta6</th>\n",
       "      <th>theta7</th>\n",
       "      <th>theta8</th>\n",
       "      <th>theta9</th>\n",
       "    </tr>\n",
       "  </thead>\n",
       "  <tbody>\n",
       "    <tr>\n",
       "      <th>479</th>\n",
       "      <td>fraud_Pfeffer LLC</td>\n",
       "      <td>176</td>\n",
       "      <td>20</td>\n",
       "      <td>0.113636</td>\n",
       "      <td>0.006307</td>\n",
       "      <td>0.012407</td>\n",
       "      <td>0.018183</td>\n",
       "      <td>0.023153</td>\n",
       "      <td>2.709651e-02</td>\n",
       "      <td>3.002343e-02</td>\n",
       "      <td>3.207542e-02</td>\n",
       "      <td>3.343950e-02</td>\n",
       "      <td>3.429451e-02</td>\n",
       "    </tr>\n",
       "    <tr>\n",
       "      <th>508</th>\n",
       "      <td>fraud_Reilly, Heaney and Cole</td>\n",
       "      <td>406</td>\n",
       "      <td>35</td>\n",
       "      <td>0.086207</td>\n",
       "      <td>0.002922</td>\n",
       "      <td>0.005529</td>\n",
       "      <td>0.008034</td>\n",
       "      <td>0.010282</td>\n",
       "      <td>1.217752e-02</td>\n",
       "      <td>1.367907e-02</td>\n",
       "      <td>1.479029e-02</td>\n",
       "      <td>1.554582e-02</td>\n",
       "      <td>1.599904e-02</td>\n",
       "    </tr>\n",
       "    <tr>\n",
       "      <th>218</th>\n",
       "      <td>fraud_Hagenes, Hermann and Stroman</td>\n",
       "      <td>175</td>\n",
       "      <td>22</td>\n",
       "      <td>0.125714</td>\n",
       "      <td>0.000914</td>\n",
       "      <td>0.001353</td>\n",
       "      <td>0.001984</td>\n",
       "      <td>0.002885</td>\n",
       "      <td>4.145644e-03</td>\n",
       "      <td>5.861863e-03</td>\n",
       "      <td>8.107607e-03</td>\n",
       "      <td>1.090408e-02</td>\n",
       "      <td>1.418824e-02</td>\n",
       "    </tr>\n",
       "    <tr>\n",
       "      <th>29</th>\n",
       "      <td>fraud_Bauch-Raynor</td>\n",
       "      <td>415</td>\n",
       "      <td>32</td>\n",
       "      <td>0.077108</td>\n",
       "      <td>0.002777</td>\n",
       "      <td>0.005031</td>\n",
       "      <td>0.007000</td>\n",
       "      <td>0.008619</td>\n",
       "      <td>9.875753e-03</td>\n",
       "      <td>1.079592e-02</td>\n",
       "      <td>1.142252e-02</td>\n",
       "      <td>1.180716e-02</td>\n",
       "      <td>1.200270e-02</td>\n",
       "    </tr>\n",
       "    <tr>\n",
       "      <th>510</th>\n",
       "      <td>fraud_Rempel Inc</td>\n",
       "      <td>342</td>\n",
       "      <td>24</td>\n",
       "      <td>0.070175</td>\n",
       "      <td>0.003203</td>\n",
       "      <td>0.005415</td>\n",
       "      <td>0.006980</td>\n",
       "      <td>0.008014</td>\n",
       "      <td>8.652929e-03</td>\n",
       "      <td>9.012080e-03</td>\n",
       "      <td>9.178568e-03</td>\n",
       "      <td>9.215318e-03</td>\n",
       "      <td>9.167860e-03</td>\n",
       "    </tr>\n",
       "    <tr>\n",
       "      <th>...</th>\n",
       "      <td>...</td>\n",
       "      <td>...</td>\n",
       "      <td>...</td>\n",
       "      <td>...</td>\n",
       "      <td>...</td>\n",
       "      <td>...</td>\n",
       "      <td>...</td>\n",
       "      <td>...</td>\n",
       "      <td>...</td>\n",
       "      <td>...</td>\n",
       "      <td>...</td>\n",
       "      <td>...</td>\n",
       "      <td>...</td>\n",
       "    </tr>\n",
       "    <tr>\n",
       "      <th>613</th>\n",
       "      <td>fraud_Swift, Bradtke and Marquardt</td>\n",
       "      <td>175</td>\n",
       "      <td>8</td>\n",
       "      <td>0.045714</td>\n",
       "      <td>0.000103</td>\n",
       "      <td>0.000046</td>\n",
       "      <td>0.000020</td>\n",
       "      <td>0.000009</td>\n",
       "      <td>3.521759e-06</td>\n",
       "      <td>1.421494e-06</td>\n",
       "      <td>5.628536e-07</td>\n",
       "      <td>2.189835e-07</td>\n",
       "      <td>8.379694e-08</td>\n",
       "    </tr>\n",
       "    <tr>\n",
       "      <th>674</th>\n",
       "      <td>fraud_Wisozk and Sons</td>\n",
       "      <td>278</td>\n",
       "      <td>12</td>\n",
       "      <td>0.043165</td>\n",
       "      <td>0.000095</td>\n",
       "      <td>0.000042</td>\n",
       "      <td>0.000018</td>\n",
       "      <td>0.000007</td>\n",
       "      <td>3.007791e-06</td>\n",
       "      <td>1.194696e-06</td>\n",
       "      <td>4.637105e-07</td>\n",
       "      <td>1.758102e-07</td>\n",
       "      <td>6.509169e-08</td>\n",
       "    </tr>\n",
       "    <tr>\n",
       "      <th>4</th>\n",
       "      <td>fraud_Adams, Kovacek and Kuhlman</td>\n",
       "      <td>162</td>\n",
       "      <td>7</td>\n",
       "      <td>0.043210</td>\n",
       "      <td>0.000087</td>\n",
       "      <td>0.000036</td>\n",
       "      <td>0.000015</td>\n",
       "      <td>0.000006</td>\n",
       "      <td>2.423975e-06</td>\n",
       "      <td>9.606532e-07</td>\n",
       "      <td>3.746260e-07</td>\n",
       "      <td>1.433932e-07</td>\n",
       "      <td>5.376379e-08</td>\n",
       "    </tr>\n",
       "    <tr>\n",
       "      <th>158</th>\n",
       "      <td>fraud_Emmerich-Luettgen</td>\n",
       "      <td>167</td>\n",
       "      <td>7</td>\n",
       "      <td>0.041916</td>\n",
       "      <td>0.000081</td>\n",
       "      <td>0.000032</td>\n",
       "      <td>0.000012</td>\n",
       "      <td>0.000005</td>\n",
       "      <td>1.720557e-06</td>\n",
       "      <td>6.263274e-07</td>\n",
       "      <td>2.229866e-07</td>\n",
       "      <td>7.757463e-08</td>\n",
       "      <td>2.636331e-08</td>\n",
       "    </tr>\n",
       "    <tr>\n",
       "      <th>88</th>\n",
       "      <td>fraud_Cassin-Harvey</td>\n",
       "      <td>165</td>\n",
       "      <td>6</td>\n",
       "      <td>0.036364</td>\n",
       "      <td>0.000067</td>\n",
       "      <td>0.000024</td>\n",
       "      <td>0.000009</td>\n",
       "      <td>0.000003</td>\n",
       "      <td>9.681157e-07</td>\n",
       "      <td>3.154169e-07</td>\n",
       "      <td>1.011674e-07</td>\n",
       "      <td>3.204046e-08</td>\n",
       "      <td>1.004370e-08</td>\n",
       "    </tr>\n",
       "  </tbody>\n",
       "</table>\n",
       "<p>693 rows × 13 columns</p>\n",
       "</div>"
      ],
      "text/plain": [
       "                               merchant  total_cards  fraud_cards    theta0  \\\n",
       "479                   fraud_Pfeffer LLC          176           20  0.113636   \n",
       "508       fraud_Reilly, Heaney and Cole          406           35  0.086207   \n",
       "218  fraud_Hagenes, Hermann and Stroman          175           22  0.125714   \n",
       "29                   fraud_Bauch-Raynor          415           32  0.077108   \n",
       "510                    fraud_Rempel Inc          342           24  0.070175   \n",
       "..                                  ...          ...          ...       ...   \n",
       "613  fraud_Swift, Bradtke and Marquardt          175            8  0.045714   \n",
       "674               fraud_Wisozk and Sons          278           12  0.043165   \n",
       "4      fraud_Adams, Kovacek and Kuhlman          162            7  0.043210   \n",
       "158             fraud_Emmerich-Luettgen          167            7  0.041916   \n",
       "88                  fraud_Cassin-Harvey          165            6  0.036364   \n",
       "\n",
       "       theta1    theta2    theta3    theta4        theta5        theta6  \\\n",
       "479  0.006307  0.012407  0.018183  0.023153  2.709651e-02  3.002343e-02   \n",
       "508  0.002922  0.005529  0.008034  0.010282  1.217752e-02  1.367907e-02   \n",
       "218  0.000914  0.001353  0.001984  0.002885  4.145644e-03  5.861863e-03   \n",
       "29   0.002777  0.005031  0.007000  0.008619  9.875753e-03  1.079592e-02   \n",
       "510  0.003203  0.005415  0.006980  0.008014  8.652929e-03  9.012080e-03   \n",
       "..        ...       ...       ...       ...           ...           ...   \n",
       "613  0.000103  0.000046  0.000020  0.000009  3.521759e-06  1.421494e-06   \n",
       "674  0.000095  0.000042  0.000018  0.000007  3.007791e-06  1.194696e-06   \n",
       "4    0.000087  0.000036  0.000015  0.000006  2.423975e-06  9.606532e-07   \n",
       "158  0.000081  0.000032  0.000012  0.000005  1.720557e-06  6.263274e-07   \n",
       "88   0.000067  0.000024  0.000009  0.000003  9.681157e-07  3.154169e-07   \n",
       "\n",
       "           theta7        theta8        theta9  \n",
       "479  3.207542e-02  3.343950e-02  3.429451e-02  \n",
       "508  1.479029e-02  1.554582e-02  1.599904e-02  \n",
       "218  8.107607e-03  1.090408e-02  1.418824e-02  \n",
       "29   1.142252e-02  1.180716e-02  1.200270e-02  \n",
       "510  9.178568e-03  9.215318e-03  9.167860e-03  \n",
       "..            ...           ...           ...  \n",
       "613  5.628536e-07  2.189835e-07  8.379694e-08  \n",
       "674  4.637105e-07  1.758102e-07  6.509169e-08  \n",
       "4    3.746260e-07  1.433932e-07  5.376379e-08  \n",
       "158  2.229866e-07  7.757463e-08  2.636331e-08  \n",
       "88   1.011674e-07  3.204046e-08  1.004370e-08  \n",
       "\n",
       "[693 rows x 13 columns]"
      ]
     },
     "execution_count": 247,
     "metadata": {},
     "output_type": "execute_result"
    }
   ],
   "source": [
    "th.sort_values('theta9',ascending = False)"
   ]
  },
  {
   "cell_type": "code",
   "execution_count": 248,
   "id": "df05de51-78e6-41a8-894c-5518323b8e66",
   "metadata": {
    "execution": {
     "iopub.execute_input": "2025-09-26T11:08:39.434044Z",
     "iopub.status.busy": "2025-09-26T11:08:39.433785Z",
     "iopub.status.idle": "2025-09-26T11:08:39.531259Z",
     "shell.execute_reply": "2025-09-26T11:08:39.530635Z",
     "shell.execute_reply.started": "2025-09-26T11:08:39.434017Z"
    }
   },
   "outputs": [],
   "source": [
    "card_id = 'cc_num'\n",
    "merch_id = 'merchant'\n",
    "sdate_overall = \"2019-01-01\"\n",
    "sdate_fraud = \"2019-04-01\"\n",
    "edate = \"2019-06-01\"\n",
    "\n",
    "## Optional\n",
    "# alpha = th.fraud_cards.mean() / th.total_cards.mean() \n",
    "# beta = th.total_cards.std()"
   ]
  },
  {
   "cell_type": "code",
   "execution_count": 249,
   "id": "f2ea9816-fde7-461b-aacf-979322b33e18",
   "metadata": {
    "execution": {
     "iopub.execute_input": "2025-09-26T11:08:39.532870Z",
     "iopub.status.busy": "2025-09-26T11:08:39.532641Z",
     "iopub.status.idle": "2025-09-26T11:10:05.528304Z",
     "shell.execute_reply": "2025-09-26T11:10:05.527555Z",
     "shell.execute_reply.started": "2025-09-26T11:08:39.532846Z"
    }
   },
   "outputs": [],
   "source": [
    "for i in range(0,10):\n",
    "    # print(f\"Iteration {i}\")\n",
    "    if i == 0:\n",
    "        graph = create_graph(df, sdate_overall, sdate_fraud, edate)\n",
    "        b, th = create_blame_theta(graph, card_id = 'cc_num', merch_id = 'merchant', alpha = alpha, beta = beta)\n",
    "    else:\n",
    "        b = update_blame(b,th,i, card_id = 'cc_num', merch_id = 'merchant', alpha = alpha, beta = beta)\n",
    "        th = update_theta(b,th,i, card_id = 'cc_num', merch_id = 'merchant', alpha = alpha, beta = beta)"
   ]
  },
  {
   "cell_type": "code",
   "execution_count": 250,
   "id": "910b2f9c-e97a-4bb3-848c-5147b6ba99d3",
   "metadata": {
    "execution": {
     "iopub.execute_input": "2025-09-26T11:10:05.529647Z",
     "iopub.status.busy": "2025-09-26T11:10:05.529377Z",
     "iopub.status.idle": "2025-09-26T11:10:05.547263Z",
     "shell.execute_reply": "2025-09-26T11:10:05.546707Z",
     "shell.execute_reply.started": "2025-09-26T11:10:05.529618Z"
    }
   },
   "outputs": [
    {
     "data": {
      "text/html": [
       "<div>\n",
       "<style scoped>\n",
       "    .dataframe tbody tr th:only-of-type {\n",
       "        vertical-align: middle;\n",
       "    }\n",
       "\n",
       "    .dataframe tbody tr th {\n",
       "        vertical-align: top;\n",
       "    }\n",
       "\n",
       "    .dataframe thead th {\n",
       "        text-align: right;\n",
       "    }\n",
       "</style>\n",
       "<table border=\"1\" class=\"dataframe\">\n",
       "  <thead>\n",
       "    <tr style=\"text-align: right;\">\n",
       "      <th></th>\n",
       "      <th>merchant</th>\n",
       "      <th>total_cards</th>\n",
       "      <th>fraud_cards</th>\n",
       "      <th>theta0</th>\n",
       "      <th>theta1</th>\n",
       "      <th>theta2</th>\n",
       "      <th>theta3</th>\n",
       "      <th>theta4</th>\n",
       "      <th>theta5</th>\n",
       "      <th>theta6</th>\n",
       "      <th>theta7</th>\n",
       "      <th>theta8</th>\n",
       "      <th>theta9</th>\n",
       "    </tr>\n",
       "  </thead>\n",
       "  <tbody>\n",
       "    <tr>\n",
       "      <th>479</th>\n",
       "      <td>fraud_Pfeffer LLC</td>\n",
       "      <td>176</td>\n",
       "      <td>20</td>\n",
       "      <td>0.072352</td>\n",
       "      <td>0.004002</td>\n",
       "      <td>0.006865</td>\n",
       "      <td>0.008992</td>\n",
       "      <td>0.010510</td>\n",
       "      <td>0.011565</td>\n",
       "      <td>0.012285</td>\n",
       "      <td>0.012767</td>\n",
       "      <td>0.013082</td>\n",
       "      <td>0.013280</td>\n",
       "    </tr>\n",
       "    <tr>\n",
       "      <th>508</th>\n",
       "      <td>fraud_Reilly, Heaney and Cole</td>\n",
       "      <td>406</td>\n",
       "      <td>35</td>\n",
       "      <td>0.069113</td>\n",
       "      <td>0.002387</td>\n",
       "      <td>0.004318</td>\n",
       "      <td>0.006055</td>\n",
       "      <td>0.007538</td>\n",
       "      <td>0.008749</td>\n",
       "      <td>0.009699</td>\n",
       "      <td>0.010418</td>\n",
       "      <td>0.010943</td>\n",
       "      <td>0.011311</td>\n",
       "    </tr>\n",
       "    <tr>\n",
       "      <th>29</th>\n",
       "      <td>fraud_Bauch-Raynor</td>\n",
       "      <td>415</td>\n",
       "      <td>32</td>\n",
       "      <td>0.062089</td>\n",
       "      <td>0.002279</td>\n",
       "      <td>0.003966</td>\n",
       "      <td>0.005346</td>\n",
       "      <td>0.006421</td>\n",
       "      <td>0.007223</td>\n",
       "      <td>0.007797</td>\n",
       "      <td>0.008191</td>\n",
       "      <td>0.008448</td>\n",
       "      <td>0.008603</td>\n",
       "    </tr>\n",
       "    <tr>\n",
       "      <th>510</th>\n",
       "      <td>fraud_Rempel Inc</td>\n",
       "      <td>342</td>\n",
       "      <td>24</td>\n",
       "      <td>0.054255</td>\n",
       "      <td>0.002510</td>\n",
       "      <td>0.004038</td>\n",
       "      <td>0.005024</td>\n",
       "      <td>0.005631</td>\n",
       "      <td>0.005990</td>\n",
       "      <td>0.006193</td>\n",
       "      <td>0.006300</td>\n",
       "      <td>0.006347</td>\n",
       "      <td>0.006358</td>\n",
       "    </tr>\n",
       "    <tr>\n",
       "      <th>239</th>\n",
       "      <td>fraud_Heidenreich PLC</td>\n",
       "      <td>427</td>\n",
       "      <td>29</td>\n",
       "      <td>0.054991</td>\n",
       "      <td>0.002126</td>\n",
       "      <td>0.003298</td>\n",
       "      <td>0.004009</td>\n",
       "      <td>0.004422</td>\n",
       "      <td>0.004654</td>\n",
       "      <td>0.004776</td>\n",
       "      <td>0.004836</td>\n",
       "      <td>0.004860</td>\n",
       "      <td>0.004863</td>\n",
       "    </tr>\n",
       "    <tr>\n",
       "      <th>...</th>\n",
       "      <td>...</td>\n",
       "      <td>...</td>\n",
       "      <td>...</td>\n",
       "      <td>...</td>\n",
       "      <td>...</td>\n",
       "      <td>...</td>\n",
       "      <td>...</td>\n",
       "      <td>...</td>\n",
       "      <td>...</td>\n",
       "      <td>...</td>\n",
       "      <td>...</td>\n",
       "      <td>...</td>\n",
       "      <td>...</td>\n",
       "    </tr>\n",
       "    <tr>\n",
       "      <th>113</th>\n",
       "      <td>fraud_Cronin, Kshlerin and Weber</td>\n",
       "      <td>303</td>\n",
       "      <td>13</td>\n",
       "      <td>0.032245</td>\n",
       "      <td>0.000107</td>\n",
       "      <td>0.000080</td>\n",
       "      <td>0.000070</td>\n",
       "      <td>0.000066</td>\n",
       "      <td>0.000064</td>\n",
       "      <td>0.000064</td>\n",
       "      <td>0.000063</td>\n",
       "      <td>0.000063</td>\n",
       "      <td>0.000063</td>\n",
       "    </tr>\n",
       "    <tr>\n",
       "      <th>421</th>\n",
       "      <td>fraud_Medhurst PLC</td>\n",
       "      <td>369</td>\n",
       "      <td>18</td>\n",
       "      <td>0.038360</td>\n",
       "      <td>0.000134</td>\n",
       "      <td>0.000096</td>\n",
       "      <td>0.000079</td>\n",
       "      <td>0.000070</td>\n",
       "      <td>0.000066</td>\n",
       "      <td>0.000064</td>\n",
       "      <td>0.000063</td>\n",
       "      <td>0.000063</td>\n",
       "      <td>0.000062</td>\n",
       "    </tr>\n",
       "    <tr>\n",
       "      <th>674</th>\n",
       "      <td>fraud_Wisozk and Sons</td>\n",
       "      <td>278</td>\n",
       "      <td>12</td>\n",
       "      <td>0.031733</td>\n",
       "      <td>0.000107</td>\n",
       "      <td>0.000081</td>\n",
       "      <td>0.000070</td>\n",
       "      <td>0.000066</td>\n",
       "      <td>0.000064</td>\n",
       "      <td>0.000063</td>\n",
       "      <td>0.000063</td>\n",
       "      <td>0.000062</td>\n",
       "      <td>0.000062</td>\n",
       "    </tr>\n",
       "    <tr>\n",
       "      <th>213</th>\n",
       "      <td>fraud_Gutmann, McLaughlin and Wiza</td>\n",
       "      <td>427</td>\n",
       "      <td>21</td>\n",
       "      <td>0.039829</td>\n",
       "      <td>0.000151</td>\n",
       "      <td>0.000112</td>\n",
       "      <td>0.000089</td>\n",
       "      <td>0.000076</td>\n",
       "      <td>0.000069</td>\n",
       "      <td>0.000065</td>\n",
       "      <td>0.000063</td>\n",
       "      <td>0.000062</td>\n",
       "      <td>0.000061</td>\n",
       "    </tr>\n",
       "    <tr>\n",
       "      <th>596</th>\n",
       "      <td>fraud_Stark-Koss</td>\n",
       "      <td>425</td>\n",
       "      <td>23</td>\n",
       "      <td>0.043786</td>\n",
       "      <td>0.000151</td>\n",
       "      <td>0.000105</td>\n",
       "      <td>0.000081</td>\n",
       "      <td>0.000069</td>\n",
       "      <td>0.000063</td>\n",
       "      <td>0.000060</td>\n",
       "      <td>0.000058</td>\n",
       "      <td>0.000057</td>\n",
       "      <td>0.000057</td>\n",
       "    </tr>\n",
       "  </tbody>\n",
       "</table>\n",
       "<p>693 rows × 13 columns</p>\n",
       "</div>"
      ],
      "text/plain": [
       "                               merchant  total_cards  fraud_cards    theta0  \\\n",
       "479                   fraud_Pfeffer LLC          176           20  0.072352   \n",
       "508       fraud_Reilly, Heaney and Cole          406           35  0.069113   \n",
       "29                   fraud_Bauch-Raynor          415           32  0.062089   \n",
       "510                    fraud_Rempel Inc          342           24  0.054255   \n",
       "239               fraud_Heidenreich PLC          427           29  0.054991   \n",
       "..                                  ...          ...          ...       ...   \n",
       "113    fraud_Cronin, Kshlerin and Weber          303           13  0.032245   \n",
       "421                  fraud_Medhurst PLC          369           18  0.038360   \n",
       "674               fraud_Wisozk and Sons          278           12  0.031733   \n",
       "213  fraud_Gutmann, McLaughlin and Wiza          427           21  0.039829   \n",
       "596                    fraud_Stark-Koss          425           23  0.043786   \n",
       "\n",
       "       theta1    theta2    theta3    theta4    theta5    theta6    theta7  \\\n",
       "479  0.004002  0.006865  0.008992  0.010510  0.011565  0.012285  0.012767   \n",
       "508  0.002387  0.004318  0.006055  0.007538  0.008749  0.009699  0.010418   \n",
       "29   0.002279  0.003966  0.005346  0.006421  0.007223  0.007797  0.008191   \n",
       "510  0.002510  0.004038  0.005024  0.005631  0.005990  0.006193  0.006300   \n",
       "239  0.002126  0.003298  0.004009  0.004422  0.004654  0.004776  0.004836   \n",
       "..        ...       ...       ...       ...       ...       ...       ...   \n",
       "113  0.000107  0.000080  0.000070  0.000066  0.000064  0.000064  0.000063   \n",
       "421  0.000134  0.000096  0.000079  0.000070  0.000066  0.000064  0.000063   \n",
       "674  0.000107  0.000081  0.000070  0.000066  0.000064  0.000063  0.000063   \n",
       "213  0.000151  0.000112  0.000089  0.000076  0.000069  0.000065  0.000063   \n",
       "596  0.000151  0.000105  0.000081  0.000069  0.000063  0.000060  0.000058   \n",
       "\n",
       "       theta8    theta9  \n",
       "479  0.013082  0.013280  \n",
       "508  0.010943  0.011311  \n",
       "29   0.008448  0.008603  \n",
       "510  0.006347  0.006358  \n",
       "239  0.004860  0.004863  \n",
       "..        ...       ...  \n",
       "113  0.000063  0.000063  \n",
       "421  0.000063  0.000062  \n",
       "674  0.000062  0.000062  \n",
       "213  0.000062  0.000061  \n",
       "596  0.000057  0.000057  \n",
       "\n",
       "[693 rows x 13 columns]"
      ]
     },
     "execution_count": 250,
     "metadata": {},
     "output_type": "execute_result"
    }
   ],
   "source": [
    "th.sort_values('theta9',ascending = False)"
   ]
  },
  {
   "cell_type": "code",
   "execution_count": null,
   "id": "622b25c2-c7e1-4f3a-aca3-ff37b0073bf1",
   "metadata": {},
   "outputs": [],
   "source": []
  }
 ],
 "metadata": {
  "kernelspec": {
   "display_name": "Python 3 (ipykernel)",
   "language": "python",
   "name": "python3"
  },
  "language_info": {
   "codemirror_mode": {
    "name": "ipython",
    "version": 3
   },
   "file_extension": ".py",
   "mimetype": "text/x-python",
   "name": "python",
   "nbconvert_exporter": "python",
   "pygments_lexer": "ipython3",
   "version": "3.10.10"
  }
 },
 "nbformat": 4,
 "nbformat_minor": 5
}
